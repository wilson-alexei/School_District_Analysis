{
 "cells": [
  {
   "cell_type": "code",
   "execution_count": 1,
   "id": "433ad7b1",
   "metadata": {},
   "outputs": [],
   "source": [
    "#Dependencies\n",
    "import pandas as pd "
   ]
  },
  {
   "cell_type": "code",
   "execution_count": 2,
   "id": "157073aa",
   "metadata": {},
   "outputs": [
    {
     "name": "stdout",
     "output_type": "stream",
     "text": [
      "0                             UCLA\n",
      "1                      UC Berkeley\n",
      "2                        UC Irvine\n",
      "3    University of Central Florida\n",
      "4               Rutgers University\n",
      "dtype: object\n"
     ]
    }
   ],
   "source": [
    "# Create a Pandas Series from the following list of schools.\n",
    "univ = [\"UCLA\", \"UC Berkeley\", \"UC Irvine\",\"University of Central Florida\", \"Rutgers University\"]\n",
    "\n",
    "data_series = pd.Series(univ)\n",
    "print(data_series)"
   ]
  },
  {
   "cell_type": "code",
   "execution_count": 4,
   "id": "a3902d4e",
   "metadata": {},
   "outputs": [
    {
     "name": "stdout",
     "output_type": "stream",
     "text": [
      "                                           Title  Year Released\n",
      "0                                  The Godfather           1972\n",
      "1                       The Shawshank Redemption           1994\n",
      "2                                   Pulp Fiction           1994\n",
      "3  The Lord of the Rings: The Return of the King           2003\n"
     ]
    }
   ],
   "source": [
    "# Convert the following list of dictionaries into a DataFrame.\n",
    "movies_dicts = [{\"Title\": \"The Godfather\", \"Year Released\": 1972},\n",
    "                {\"Title\": \"The Shawshank Redemption\", \"Year Released\": 1994},\n",
    "                {\"Title\": \"Pulp Fiction\", \"Year Released\": 1994},\n",
    "                {\"Title\": \"The Lord of the Rings: The Return of the King\", \"Year Released\": 2003}]\n",
    "\n",
    "movie_df = pd.DataFrame(movies_dicts)\n",
    "print(movie_df)\n"
   ]
  },
  {
   "cell_type": "code",
   "execution_count": 6,
   "id": "50424cf6",
   "metadata": {},
   "outputs": [
    {
     "ename": "SyntaxError",
     "evalue": "invalid syntax (1802664922.py, line 4)",
     "output_type": "error",
     "traceback": [
      "\u001b[0;36m  File \u001b[0;32m\"/var/folders/vf/nxwvhrw12v30s8phjczrr8pc0000gn/T/ipykernel_76716/1802664922.py\"\u001b[0;36m, line \u001b[0;32m4\u001b[0m\n\u001b[0;31m    \"Year Released\": [1972,1994,1994]}\u001b[0m\n\u001b[0m                  ^\u001b[0m\n\u001b[0;31mSyntaxError\u001b[0m\u001b[0;31m:\u001b[0m invalid syntax\n"
     ]
    }
   ],
   "source": [
    "# Edit the movie_dicts so that the the values for the \"Title\" and \"Year Released\" are list of movie titles and years.\n",
    "#  Then, convert the dictionary of lists into a DataFrame. \n",
    "movies_dict_list = {\"Title\" : [\"The Godfather\",\"The Godfather\",\"Pulp Fiction\"]\n",
    "                   \"Year Released\": [1972,1994,1994]}\n",
    "\n",
    "movies_df = pd.DataFrame(movies_dict_list)\n",
    "print(movies_df)"
   ]
  },
  {
   "cell_type": "code",
   "execution_count": null,
   "id": "04b7532d",
   "metadata": {},
   "outputs": [],
   "source": [
    "# Create a DataFrame using a dictionary of lists\n",
    "movies_dicts.df = pd.DataFrame(movies_dicts)\n",
    "movies_dicts.df"
   ]
  },
  {
   "cell_type": "code",
   "execution_count": null,
   "id": "5ce83411",
   "metadata": {},
   "outputs": [],
   "source": []
  }
 ],
 "metadata": {
  "kernelspec": {
   "display_name": "PythonData",
   "language": "python",
   "name": "pythondata"
  },
  "language_info": {
   "codemirror_mode": {
    "name": "ipython",
    "version": 3
   },
   "file_extension": ".py",
   "mimetype": "text/x-python",
   "name": "python",
   "nbconvert_exporter": "python",
   "pygments_lexer": "ipython3",
   "version": "3.7.11"
  }
 },
 "nbformat": 4,
 "nbformat_minor": 5
}
